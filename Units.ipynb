{
 "cells": [
  {
   "cell_type": "markdown",
   "metadata": {
    "id": "u8UdeRnuIVt7"
   },
   "source": [
    "<img src=\"https://i.ibb.co/TcVMz44/logo.jpg\" alt=\"logo\" border=\"0\" width=200>\n",
    "\n",
    "# Computational Astrophysics 2021\n",
    "---\n",
    "## Eduard Larrañaga\n",
    "\n",
    "Observatorio Astronómico Nacional\\\n",
    "Facultad de Ciencias\\\n",
    "Universidad Nacional de Colombia\n",
    "\n",
    "---"
   ]
  },
  {
   "cell_type": "code",
   "execution_count": 1,
   "metadata": {
    "id": "JJhws2RUIVuE"
   },
   "outputs": [],
   "source": [
    "import numpy as np\n",
    "import astropy.units as u\n",
    "from astropy import constants as const"
   ]
  },
  {
   "cell_type": "markdown",
   "metadata": {
    "id": "RQy_3E2HIVuF"
   },
   "source": [
    "Newton's gravitational constant is"
   ]
  },
  {
   "cell_type": "code",
   "execution_count": 2,
   "metadata": {
    "colab": {
     "base_uri": "https://localhost:8080/",
     "height": 42
    },
    "id": "F721_EiuIVuF",
    "outputId": "d2a87ffb-b873-410a-f844-2f152d63acf8"
   },
   "outputs": [
    {
     "data": {
      "text/latex": [
       "$6.6743 \\times 10^{-11} \\; \\mathrm{\\frac{m^{3}}{kg\\,s^{2}}}$"
      ],
      "text/plain": [
       "<<class 'astropy.constants.codata2018.CODATA2018'> name='Gravitational constant' value=6.6743e-11 uncertainty=1.5e-15 unit='m3 / (kg s2)' reference='CODATA 2018'>"
      ]
     },
     "execution_count": 2,
     "metadata": {
      "tags": []
     },
     "output_type": "execute_result"
    }
   ],
   "source": [
    "const.G"
   ]
  },
  {
   "cell_type": "code",
   "execution_count": 27,
   "metadata": {
    "colab": {
     "base_uri": "https://localhost:8080/"
    },
    "id": "9k5JKGhQRZCG",
    "outputId": "16ed3c10-a728-425b-adee-166e9964c07e"
   },
   "outputs": [
    {
     "data": {
      "text/plain": [
       "0.001"
      ]
     },
     "execution_count": 27,
     "metadata": {
      "tags": []
     },
     "output_type": "execute_result"
    }
   ],
   "source": [
    "1*u.m.to(u.km) #km/m"
   ]
  },
  {
   "cell_type": "code",
   "execution_count": 23,
   "metadata": {
    "colab": {
     "base_uri": "https://localhost:8080/"
    },
    "id": "cBKeqzk0Rv_w",
    "outputId": "5e7376ab-3692-4ded-cf63-aed29550c90c"
   },
   "outputs": [
    {
     "data": {
      "text/plain": [
       "1.988409870698051e+30"
      ]
     },
     "execution_count": 23,
     "metadata": {
      "tags": []
     },
     "output_type": "execute_result"
    }
   ],
   "source": [
    "1*u.solMass.to(u.kg) #kg/Msun"
   ]
  },
  {
   "cell_type": "code",
   "execution_count": 31,
   "metadata": {
    "colab": {
     "base_uri": "https://localhost:8080/"
    },
    "id": "Ukoa2t8KSDyK",
    "outputId": "d0deac1c-956a-4e85-bfb6-2409919d4ea5"
   },
   "outputs": [
    {
     "data": {
      "text/plain": [
       "3.240779289444365e-17"
      ]
     },
     "execution_count": 31,
     "metadata": {
      "tags": []
     },
     "output_type": "execute_result"
    }
   ],
   "source": [
    "1*u.m.to(u.pc) #pc/m"
   ]
  },
  {
   "cell_type": "code",
   "execution_count": 38,
   "metadata": {
    "colab": {
     "base_uri": "https://localhost:8080/"
    },
    "id": "lNvYzSAvTjgO",
    "outputId": "3c880c71-bf77-434f-8e5c-987939b2cd6d"
   },
   "outputs": [
    {
     "data": {
      "text/plain": [
       "3.2407792894443654e-20"
      ]
     },
     "execution_count": 38,
     "metadata": {
      "tags": []
     },
     "output_type": "execute_result"
    }
   ],
   "source": [
    "1*u.m.to(u.kpc) #kpc/m"
   ]
  },
  {
   "cell_type": "code",
   "execution_count": 9,
   "metadata": {},
   "outputs": [
    {
     "data": {
      "text/plain": [
       "6.684587122268445e-12"
      ]
     },
     "execution_count": 9,
     "metadata": {},
     "output_type": "execute_result"
    }
   ],
   "source": [
    "1*u.m.to(u.au) #au/m"
   ]
  },
  {
   "cell_type": "code",
   "execution_count": 5,
   "metadata": {},
   "outputs": [
    {
     "data": {
      "text/plain": [
       "31557600.0"
      ]
     },
     "execution_count": 5,
     "metadata": {},
     "output_type": "execute_result"
    }
   ],
   "source": [
    "1*u.yr.to(u.s) #s/yr"
   ]
  },
  {
   "cell_type": "code",
   "execution_count": 23,
   "metadata": {},
   "outputs": [
    {
     "data": {
      "text/plain": [
       "206264.80624709636"
      ]
     },
     "execution_count": 23,
     "metadata": {},
     "output_type": "execute_result"
    }
   ],
   "source": [
    "u.pc.to(u.au)"
   ]
  },
  {
   "cell_type": "code",
   "execution_count": 39,
   "metadata": {
    "colab": {
     "base_uri": "https://localhost:8080/",
     "height": 43
    },
    "id": "hICZ4FGNOH33",
    "outputId": "54dec6e9-38b0-4648-b959-1131ae7a5340"
   },
   "outputs": [
    {
     "data": {
      "text/latex": [
       "$4.3009173 \\times 10^{-6} \\; \\mathrm{\\frac{km^{2}\\,kpc}{M_{\\odot}\\,s^{2}}}$"
      ],
      "text/plain": [
       "<Quantity 4.30091727e-06 km2 kpc / (s2 solMass)>"
      ]
     },
     "execution_count": 39,
     "metadata": {
      "tags": []
     },
     "output_type": "execute_result"
    }
   ],
   "source": [
    "const.G*(0.001*u.km/u.m)**2*(1.988409870698051e+30*u.kg/u.solMass)*(3.2407792894443654e-20*u.kpc/u.m)"
   ]
  },
  {
   "cell_type": "code",
   "execution_count": 7,
   "metadata": {},
   "outputs": [
    {
     "data": {
      "text/latex": [
       "$4.4985022 \\times 10^{-24} \\; \\mathrm{\\frac{kpc^{3}}{M_{\\odot}\\,yr^{2}}}$"
      ],
      "text/plain": [
       "<Quantity 4.49850215e-24 kpc3 / (solMass yr2)>"
      ]
     },
     "execution_count": 7,
     "metadata": {},
     "output_type": "execute_result"
    }
   ],
   "source": [
    "const.G*(1.988409870698051e+30*u.kg/u.solMass)*(3.2407792894443654e-20*u.kpc/u.m)**3*(31557600.0*u.s/u.yr)**2"
   ]
  },
  {
   "cell_type": "code",
   "execution_count": 10,
   "metadata": {},
   "outputs": [
    {
     "data": {
      "text/latex": [
       "$39.476926 \\; \\mathrm{\\frac{AU^{3}}{M_{\\odot}\\,yr^{2}}}$"
      ],
      "text/plain": [
       "<Quantity 39.47692641 AU3 / (solMass yr2)>"
      ]
     },
     "execution_count": 10,
     "metadata": {},
     "output_type": "execute_result"
    }
   ],
   "source": [
    "const.G*(1.988409870698051e+30*u.kg/u.solMass)*(6.684587122268445e-12*u.au/u.m)**3*(31557600.0*u.s/u.yr)**2"
   ]
  },
  {
   "cell_type": "code",
   "execution_count": 7,
   "metadata": {},
   "outputs": [
    {
     "data": {
      "text/latex": [
       "$4.4985022 \\times 10^{-6} \\; \\mathrm{\\frac{kpc^{3}}{M_{\\odot}\\,Gyr^{2}}}$"
      ],
      "text/plain": [
       "<Quantity 4.49850215e-06 kpc3 / (Gyr2 solMass)>"
      ]
     },
     "execution_count": 7,
     "metadata": {},
     "output_type": "execute_result"
    }
   ],
   "source": [
    "G_code = const.G.to(u.kpc**3/(u.solMass*u.Gyr**2))\n",
    "G_code"
   ]
  },
  {
   "cell_type": "markdown",
   "metadata": {},
   "source": [
    "---\n",
    "Speed of the Sun around the galactic center:\n",
    "$v = 220$ km/s"
   ]
  },
  {
   "cell_type": "code",
   "execution_count": 3,
   "metadata": {},
   "outputs": [
    {
     "data": {
      "text/latex": [
       "$220 \\; \\mathrm{\\frac{km}{s}}$"
      ],
      "text/plain": [
       "<Quantity 220. km / s>"
      ]
     },
     "execution_count": 3,
     "metadata": {},
     "output_type": "execute_result"
    }
   ],
   "source": [
    "v = 220*u.km/u.s\n",
    "v"
   ]
  },
  {
   "cell_type": "code",
   "execution_count": 5,
   "metadata": {},
   "outputs": [
    {
     "data": {
      "text/latex": [
       "$224.99668 \\; \\mathrm{\\frac{kpc}{Gyr}}$"
      ],
      "text/plain": [
       "<Quantity 224.99667631 kpc / Gyr>"
      ]
     },
     "execution_count": 5,
     "metadata": {},
     "output_type": "execute_result"
    }
   ],
   "source": [
    "v.to(u.kpc/u.Gyr)"
   ]
  },
  {
   "cell_type": "code",
   "execution_count": 17,
   "metadata": {},
   "outputs": [
    {
     "data": {
      "text/latex": [
       "$4.742627 \\; \\mathrm{\\frac{kpc}{Gyr}}$"
      ],
      "text/plain": [
       "<Quantity 4.74262699 kpc / Gyr>"
      ]
     },
     "execution_count": 17,
     "metadata": {},
     "output_type": "execute_result"
    }
   ],
   "source": [
    "np.sqrt(G_code*4*10e6*u.solMass/(8*u.kpc))"
   ]
  },
  {
   "cell_type": "code",
   "execution_count": 16,
   "metadata": {},
   "outputs": [
    {
     "data": {
      "text/latex": [
       "$1.4309224 \\times 10^{23} \\; \\mathrm{\\frac{m^{2}}{s}}$"
      ],
      "text/plain": [
       "<Quantity 1.43092243e+23 m2 / s>"
      ]
     },
     "execution_count": 16,
     "metadata": {},
     "output_type": "execute_result"
    }
   ],
   "source": [
    "vel=np.sqrt(const.G*4*10e6*u.solMass/8*u.kpc)\n",
    "vel.decompose()"
   ]
  },
  {
   "cell_type": "code",
   "execution_count": 14,
   "metadata": {},
   "outputs": [
    {
     "data": {
      "text/latex": [
       "$3.3787134 \\times 10^{17} \\; \\mathrm{\\frac{m^{5/2}}{s^{2}}}$"
      ],
      "text/plain": [
       "<Quantity 3.37871344e+17 m(5/2) / s2>"
      ]
     },
     "execution_count": 14,
     "metadata": {},
     "output_type": "execute_result"
    }
   ],
   "source": [
    "vel.decompose()"
   ]
  },
  {
   "cell_type": "code",
   "execution_count": null,
   "metadata": {},
   "outputs": [],
   "source": []
  }
 ],
 "metadata": {
  "colab": {
   "collapsed_sections": [
    "obj6zEb7IVuT",
    "I0iS9RUoIVuV",
    "UZwwyws-IVuW"
   ],
   "name": "05.UsingAstropy.ipynb",
   "provenance": []
  },
  "kernelspec": {
   "display_name": "Python 3 (ipykernel)",
   "language": "python",
   "name": "python3"
  },
  "language_info": {
   "codemirror_mode": {
    "name": "ipython",
    "version": 3
   },
   "file_extension": ".py",
   "mimetype": "text/x-python",
   "name": "python",
   "nbconvert_exporter": "python",
   "pygments_lexer": "ipython3",
   "version": "3.9.5"
  }
 },
 "nbformat": 4,
 "nbformat_minor": 1
}
